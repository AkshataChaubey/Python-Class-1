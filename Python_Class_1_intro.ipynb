{
  "nbformat": 4,
  "nbformat_minor": 0,
  "metadata": {
    "colab": {
      "provenance": [],
      "authorship_tag": "ABX9TyPaPGwgZlEpdu6uYMXHem6g",
      "include_colab_link": true
    },
    "kernelspec": {
      "name": "python3",
      "display_name": "Python 3"
    },
    "language_info": {
      "name": "python"
    }
  },
  "cells": [
    {
      "cell_type": "markdown",
      "metadata": {
        "id": "view-in-github",
        "colab_type": "text"
      },
      "source": [
        "<a href=\"https://colab.research.google.com/github/AkshataChaubey/Python-Class-1/blob/main/Python_Class_1_intro.ipynb\" target=\"_parent\"><img src=\"https://colab.research.google.com/assets/colab-badge.svg\" alt=\"Open In Colab\"/></a>"
      ]
    },
    {
      "cell_type": "code",
      "execution_count": null,
      "metadata": {
        "colab": {
          "base_uri": "https://localhost:8080/"
        },
        "id": "dLK_67N9DGBZ",
        "outputId": "207a05f5-7fb9-4892-c160-f27555baab3f"
      },
      "outputs": [
        {
          "output_type": "stream",
          "name": "stdout",
          "text": [
            "Hii\n"
          ]
        }
      ],
      "source": [
        "print(\"Hii\")\n"
      ]
    },
    {
      "cell_type": "code",
      "source": [
        "number=24.5\n",
        "print(type(number))"
      ],
      "metadata": {
        "colab": {
          "base_uri": "https://localhost:8080/"
        },
        "id": "chbuzlCAFrjN",
        "outputId": "187f7fa0-c043-4eea-9a63-9d9e030f9ce3"
      },
      "execution_count": null,
      "outputs": [
        {
          "output_type": "stream",
          "name": "stdout",
          "text": [
            "<class 'float'>\n"
          ]
        }
      ]
    },
    {
      "cell_type": "code",
      "source": [
        "list1=[\"lion\",\"dog\"]\n",
        "print(type(list1))\n",
        "\n",
        "set1={\"lion\",\"dog\"}\n",
        "print((type(set1)))\n",
        "\n",
        "tuple1=(\"lion\",\"dog\")\n",
        "print(type(tuple1))\n",
        "\n",
        "dict1={\"a\":\"lion\",\"b\":\"dog\"}\n",
        "print(type(dict1))"
      ],
      "metadata": {
        "colab": {
          "base_uri": "https://localhost:8080/"
        },
        "id": "-EU6i_u1G81_",
        "outputId": "5ee294c1-9d64-4495-d12b-667271e007ad"
      },
      "execution_count": null,
      "outputs": [
        {
          "output_type": "stream",
          "name": "stdout",
          "text": [
            "<class 'list'>\n",
            "<class 'set'>\n",
            "<class 'tuple'>\n",
            "<class 'dict'>\n"
          ]
        }
      ]
    },
    {
      "cell_type": "code",
      "source": [
        "def addition(a,b):\n",
        "  return a+b  \n",
        "print(addition(2,3))  "
      ],
      "metadata": {
        "colab": {
          "base_uri": "https://localhost:8080/"
        },
        "id": "EhC9hRilIt-x",
        "outputId": "dab45330-a6ed-4dc3-b6e9-8cb309eca146"
      },
      "execution_count": null,
      "outputs": [
        {
          "output_type": "stream",
          "name": "stdout",
          "text": [
            "5\n"
          ]
        }
      ]
    },
    {
      "cell_type": "code",
      "source": [
        "def convert_to_farentite(celsius):\n",
        "  f= (celsius*(9/5))+32\n",
        "  return f\n",
        "c=input(\"Enter the Celsius value:    \")\n",
        "convert_to_farentite(float(c))  "
      ],
      "metadata": {
        "colab": {
          "base_uri": "https://localhost:8080/"
        },
        "id": "6ff-pxSKJfGJ",
        "outputId": "2fb1e17f-d6e0-48d2-8de9-54cbcf44b11b"
      },
      "execution_count": null,
      "outputs": [
        {
          "name": "stdout",
          "output_type": "stream",
          "text": [
            "Enter the Celsius value:    35.75\n"
          ]
        },
        {
          "output_type": "execute_result",
          "data": {
            "text/plain": [
              "96.35000000000001"
            ]
          },
          "metadata": {},
          "execution_count": 13
        }
      ]
    },
    {
      "cell_type": "code",
      "source": [
        "def Addition(x,y):\n",
        "  return x+y\n",
        "def Subtraction(x,y):\n",
        "  return x-y\n",
        "def Multiplication(x,y):\n",
        "  return x*y\n",
        "def Divison(x,y):\n",
        "  return x/y\n",
        "def Modulus(x,y):\n",
        "  return x%y\n",
        "def Calculation(option):\n",
        "\n",
        "  if(option ==1 or option==2 or option==3 or option==4 or option==5):\n",
        "    Num1=float(input(\"Enter first number:  \"))\n",
        "    Num2=float(input(\"Enter second number:  \"))\n",
        "    if(option==1):\n",
        "      print(\"Sum\",Num1,\"+\",Num2,\"=\",Addition(Num1,Num2))\n",
        "    elif(option==2):\n",
        "      print(\"Difference\",Num1,\"-\",Num2,\"=\",Subtraction(Num1,Num2))\n",
        "    elif(option==3):\n",
        "      print(\"Product\",Num1,\"*\",Num2,\"=\",Multiplication(Num1,Num2))\n",
        "    elif(option==4):\n",
        "      print(\"Quotient\",Num1,\"/\",Num2,\"=\",Divison(Num1,Num2))\n",
        "    elif(option==5):\n",
        "      print(\"Remainder\",Num1,\"%\",Num2,\"=\",Modulus(Num1,Num2))\n",
        "         \n",
        "              \n",
        "\n",
        "  else:\n",
        "    print(\"Invalid option Entered\")\n",
        "    \n",
        "print(\"Choose operation from below\")\n",
        "print(\"1.Addition\")\n",
        "print(\"2.Subtraction\")\n",
        "print(\"3.Multiplication\")\n",
        "print(\"4.Divison\")\n",
        "print(\"5.Modulus\")\n",
        "option=int(input(\"Enter Option(1/2/3/4/5):   \"))\n",
        "Calculation(option)"
      ],
      "metadata": {
        "id": "SfZNuz5CLVUV",
        "colab": {
          "base_uri": "https://localhost:8080/"
        },
        "outputId": "99a69ee1-72e8-4caf-b0f7-4e5e167d78c8"
      },
      "execution_count": 7,
      "outputs": [
        {
          "output_type": "stream",
          "name": "stdout",
          "text": [
            "Choose operation from below\n",
            "1.Addition\n",
            "2.Subtraction\n",
            "3.Multiplication\n",
            "4.Divison\n",
            "5.Modulus\n",
            "Enter Option(1/2/3/4/5):   5\n",
            "Enter first number:  25\n",
            "Enter second number:  2\n",
            "Remainder 25.0 % 2.0 = 1.0\n"
          ]
        }
      ]
    }
  ]
}